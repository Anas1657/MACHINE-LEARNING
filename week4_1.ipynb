{
  "nbformat": 4,
  "nbformat_minor": 0,
  "metadata": {
    "colab": {
      "provenance": [],
      "authorship_tag": "ABX9TyNO0H20OYwcjo4yDTe6ZMOv",
      "include_colab_link": true
    },
    "kernelspec": {
      "name": "python3",
      "display_name": "Python 3"
    },
    "language_info": {
      "name": "python"
    }
  },
  "cells": [
    {
      "cell_type": "markdown",
      "metadata": {
        "id": "view-in-github",
        "colab_type": "text"
      },
      "source": [
        "<a href=\"https://colab.research.google.com/github/Anas1657/MACHINE-LEARNING/blob/main/week4_1.ipynb\" target=\"_parent\"><img src=\"https://colab.research.google.com/assets/colab-badge.svg\" alt=\"Open In Colab\"/></a>"
      ]
    },
    {
      "cell_type": "markdown",
      "source": [
        "OOPs"
      ],
      "metadata": {
        "id": "R1HPnjiHeThD"
      }
    },
    {
      "cell_type": "code",
      "execution_count": 1,
      "metadata": {
        "id": "1JIYVA0ieFeJ"
      },
      "outputs": [],
      "source": [
        "a=1"
      ]
    },
    {
      "cell_type": "code",
      "source": [
        "print(type(a))"
      ],
      "metadata": {
        "colab": {
          "base_uri": "https://localhost:8080/"
        },
        "id": "EjinxY5Fea5H",
        "outputId": "8b1e2e7e-43f1-4485-f38e-af9908b448d3"
      },
      "execution_count": 2,
      "outputs": [
        {
          "output_type": "stream",
          "name": "stdout",
          "text": [
            "<class 'int'>\n"
          ]
        }
      ]
    },
    {
      "cell_type": "code",
      "source": [
        "print(type(\"Anas\"))"
      ],
      "metadata": {
        "colab": {
          "base_uri": "https://localhost:8080/"
        },
        "id": "-kB5BRJiedao",
        "outputId": "51a6ecba-0ade-4e51-a01f-2b03f08099e7"
      },
      "execution_count": 3,
      "outputs": [
        {
          "output_type": "stream",
          "name": "stdout",
          "text": [
            "<class 'str'>\n"
          ]
        }
      ]
    },
    {
      "cell_type": "code",
      "source": [
        "class test:\n",
        "  pass\n"
      ],
      "metadata": {
        "id": "Myy4qxzae2Hl"
      },
      "execution_count": 4,
      "outputs": []
    },
    {
      "cell_type": "code",
      "source": [
        "a=test() #object(a) of class test"
      ],
      "metadata": {
        "id": "hiw5HB-8fULA"
      },
      "execution_count": 5,
      "outputs": []
    },
    {
      "cell_type": "code",
      "source": [
        "print(type(a))"
      ],
      "metadata": {
        "colab": {
          "base_uri": "https://localhost:8080/"
        },
        "id": "duV_x3jffbc2",
        "outputId": "49722a94-6c4f-4a9b-e54a-d95e0e9c9cb7"
      },
      "execution_count": 6,
      "outputs": [
        {
          "output_type": "stream",
          "name": "stdout",
          "text": [
            "<class '__main__.test'>\n"
          ]
        }
      ]
    },
    {
      "cell_type": "code",
      "source": [
        "class pwskill:\n",
        "  def welcome_msg():\n",
        "    print(\"welcome to pwskill\")"
      ],
      "metadata": {
        "id": "SVKA5uK2ffEH"
      },
      "execution_count": 7,
      "outputs": []
    },
    {
      "cell_type": "code",
      "source": [
        "rohan = pwskill()"
      ],
      "metadata": {
        "id": "AUKiKvoqf2c8"
      },
      "execution_count": 8,
      "outputs": []
    },
    {
      "cell_type": "code",
      "source": [
        "rohan.welcome_msg()"
      ],
      "metadata": {
        "colab": {
          "base_uri": "https://localhost:8080/",
          "height": 146
        },
        "id": "Ay88bUZtf5xF",
        "outputId": "b2fb7c91-8474-4871-fdc5-b06ebd107fae"
      },
      "execution_count": 9,
      "outputs": [
        {
          "output_type": "error",
          "ename": "TypeError",
          "evalue": "pwskill.welcome_msg() takes 0 positional arguments but 1 was given",
          "traceback": [
            "\u001b[0;31m---------------------------------------------------------------------------\u001b[0m",
            "\u001b[0;31mTypeError\u001b[0m                                 Traceback (most recent call last)",
            "\u001b[0;32m<ipython-input-9-544556fd0fa5>\u001b[0m in \u001b[0;36m<cell line: 0>\u001b[0;34m()\u001b[0m\n\u001b[0;32m----> 1\u001b[0;31m \u001b[0mrohan\u001b[0m\u001b[0;34m.\u001b[0m\u001b[0mwelcome_msg\u001b[0m\u001b[0;34m(\u001b[0m\u001b[0;34m)\u001b[0m\u001b[0;34m\u001b[0m\u001b[0;34m\u001b[0m\u001b[0m\n\u001b[0m",
            "\u001b[0;31mTypeError\u001b[0m: pwskill.welcome_msg() takes 0 positional arguments but 1 was given"
          ]
        }
      ]
    },
    {
      "cell_type": "code",
      "source": [
        "class pwskill:\n",
        "  def welcome_msg(self):\n",
        "    print(\"welcome to pwskill\")"
      ],
      "metadata": {
        "id": "6-608Rxaf9B7"
      },
      "execution_count": 10,
      "outputs": []
    },
    {
      "cell_type": "code",
      "source": [
        "rohan = pwskill()"
      ],
      "metadata": {
        "id": "TtlCGlx8gELg"
      },
      "execution_count": 11,
      "outputs": []
    },
    {
      "cell_type": "code",
      "source": [
        "rohan.welcome_msg()"
      ],
      "metadata": {
        "colab": {
          "base_uri": "https://localhost:8080/"
        },
        "id": "JK507_45gJWF",
        "outputId": "daa8be51-e9a8-4ec2-d181-b575a60bfe62"
      },
      "execution_count": 12,
      "outputs": [
        {
          "output_type": "stream",
          "name": "stdout",
          "text": [
            "welcome to pwskill\n"
          ]
        }
      ]
    },
    {
      "cell_type": "code",
      "source": [
        "anas=pwskill()"
      ],
      "metadata": {
        "id": "wDiC6QnVgLg_"
      },
      "execution_count": 13,
      "outputs": []
    },
    {
      "cell_type": "code",
      "source": [
        "anas.welcome_msg()"
      ],
      "metadata": {
        "colab": {
          "base_uri": "https://localhost:8080/"
        },
        "id": "wm9g3dUEgUtg",
        "outputId": "10269b13-941d-47bb-fd15-4a1b329d2e7e"
      },
      "execution_count": 14,
      "outputs": [
        {
          "output_type": "stream",
          "name": "stdout",
          "text": [
            "welcome to pwskill\n"
          ]
        }
      ]
    },
    {
      "cell_type": "code",
      "source": [
        "a=1"
      ],
      "metadata": {
        "id": "rRPz45EIgbYk"
      },
      "execution_count": 15,
      "outputs": []
    },
    {
      "cell_type": "code",
      "source": [
        "b=2"
      ],
      "metadata": {
        "id": "pR-mQp5Egqea"
      },
      "execution_count": 16,
      "outputs": []
    },
    {
      "cell_type": "code",
      "source": [
        "class pwskills1:\n",
        "  def __init__(self,phone_no,email_id,student_id): #self is pointer not a keyword just reference\n",
        "    self.phone_no=phone_no\n",
        "    self.email_id=email_id\n",
        "    self.student_id=student_id\n",
        "\n",
        "  def return_student_details(self):\n",
        "    return self.phone_no , self.email_id , self.student_id\n"
      ],
      "metadata": {
        "id": "tEjZYEZTgrCy"
      },
      "execution_count": 17,
      "outputs": []
    },
    {
      "cell_type": "code",
      "source": [
        "emash = pwskills1()"
      ],
      "metadata": {
        "colab": {
          "base_uri": "https://localhost:8080/",
          "height": 146
        },
        "id": "2Vqsj-qlhyPE",
        "outputId": "78c694d9-c7a8-47bf-b537-9fb60c458b70"
      },
      "execution_count": 18,
      "outputs": [
        {
          "output_type": "error",
          "ename": "TypeError",
          "evalue": "pwskills1.__init__() missing 3 required positional arguments: 'phone_no', 'email_id', and 'student_id'",
          "traceback": [
            "\u001b[0;31m---------------------------------------------------------------------------\u001b[0m",
            "\u001b[0;31mTypeError\u001b[0m                                 Traceback (most recent call last)",
            "\u001b[0;32m<ipython-input-18-80d8d19196b6>\u001b[0m in \u001b[0;36m<cell line: 0>\u001b[0;34m()\u001b[0m\n\u001b[0;32m----> 1\u001b[0;31m \u001b[0memash\u001b[0m \u001b[0;34m=\u001b[0m \u001b[0mpwskills1\u001b[0m\u001b[0;34m(\u001b[0m\u001b[0;34m)\u001b[0m\u001b[0;34m\u001b[0m\u001b[0;34m\u001b[0m\u001b[0m\n\u001b[0m",
            "\u001b[0;31mTypeError\u001b[0m: pwskills1.__init__() missing 3 required positional arguments: 'phone_no', 'email_id', and 'student_id'"
          ]
        }
      ]
    },
    {
      "cell_type": "code",
      "source": [
        "emash = pwskills1(2100290130102,\"as16570786@gmail.com\",102)"
      ],
      "metadata": {
        "id": "lKBUM7Poh8jR"
      },
      "execution_count": 19,
      "outputs": []
    },
    {
      "cell_type": "code",
      "source": [
        "emash.email_id"
      ],
      "metadata": {
        "colab": {
          "base_uri": "https://localhost:8080/",
          "height": 36
        },
        "id": "e7xNVx3siPGg",
        "outputId": "5d40b6f2-57a4-4720-a7ed-baf8c881268b"
      },
      "execution_count": 20,
      "outputs": [
        {
          "output_type": "execute_result",
          "data": {
            "text/plain": [
              "'as16570786@gmail.com'"
            ],
            "application/vnd.google.colaboratory.intrinsic+json": {
              "type": "string"
            }
          },
          "metadata": {},
          "execution_count": 20
        }
      ]
    },
    {
      "cell_type": "code",
      "source": [
        "emash.phone_no\n"
      ],
      "metadata": {
        "colab": {
          "base_uri": "https://localhost:8080/"
        },
        "id": "qlhEJHxVi9Z8",
        "outputId": "f3c1f049-4632-4818-e4ed-0d8fc574ef92"
      },
      "execution_count": 21,
      "outputs": [
        {
          "output_type": "execute_result",
          "data": {
            "text/plain": [
              "2100290130102"
            ]
          },
          "metadata": {},
          "execution_count": 21
        }
      ]
    },
    {
      "cell_type": "code",
      "source": [
        "emash.return_student_details()"
      ],
      "metadata": {
        "colab": {
          "base_uri": "https://localhost:8080/"
        },
        "id": "3_Vf0bcLjALe",
        "outputId": "9bf71421-0058-4fc1-a751-cbb7bb4799e0"
      },
      "execution_count": 22,
      "outputs": [
        {
          "output_type": "execute_result",
          "data": {
            "text/plain": [
              "(2100290130102, 'as16570786@gmail.com', 102)"
            ]
          },
          "metadata": {},
          "execution_count": 22
        }
      ]
    },
    {
      "cell_type": "code",
      "source": [
        "anas=pwskills1(7905261288,\"anas1657@gmail.com\",103)"
      ],
      "metadata": {
        "id": "Sdj0jxByjFlD"
      },
      "execution_count": 23,
      "outputs": []
    },
    {
      "cell_type": "code",
      "source": [
        "anas.phone_no"
      ],
      "metadata": {
        "colab": {
          "base_uri": "https://localhost:8080/"
        },
        "id": "96-BxYPrjR7r",
        "outputId": "2a63de39-4768-4b55-b0fb-a0c69ebd49c3"
      },
      "execution_count": 24,
      "outputs": [
        {
          "output_type": "execute_result",
          "data": {
            "text/plain": [
              "7905261288"
            ]
          },
          "metadata": {},
          "execution_count": 24
        }
      ]
    },
    {
      "cell_type": "code",
      "source": [
        "anas.return_student_details()"
      ],
      "metadata": {
        "colab": {
          "base_uri": "https://localhost:8080/"
        },
        "id": "81uGJKnGjTYj",
        "outputId": "b9dc7659-3494-4d61-89a9-9b2be9b75a5c"
      },
      "execution_count": 25,
      "outputs": [
        {
          "output_type": "execute_result",
          "data": {
            "text/plain": [
              "(7905261288, 'anas1657@gmail.com', 103)"
            ]
          },
          "metadata": {},
          "execution_count": 25
        }
      ]
    },
    {
      "cell_type": "code",
      "source": [
        "class pwskills2:\n",
        "  def __init__(xy,phone_no,email_id,student_id): #xy is pointer(reference)\n",
        "    xy.phone_no=phone_no       #phone_no,email_id,studnet_id is variable of class\n",
        "    xy.email_id=email_id\n",
        "    xy.student_id=student_id\n",
        "\n",
        "  def return_student_details(xy):\n",
        "    return xy.phone_no , xy.email_id , xy.student_id"
      ],
      "metadata": {
        "id": "tZcmXVh0jV0S"
      },
      "execution_count": 26,
      "outputs": []
    },
    {
      "cell_type": "code",
      "source": [
        "mohan=pwskills2(846413515,\"mohan@gmaill.com\",125)"
      ],
      "metadata": {
        "id": "lYMJKocWj2KV"
      },
      "execution_count": 27,
      "outputs": []
    },
    {
      "cell_type": "code",
      "source": [
        "mohan.email_id"
      ],
      "metadata": {
        "colab": {
          "base_uri": "https://localhost:8080/",
          "height": 36
        },
        "id": "nGw0288VkBJT",
        "outputId": "884e819d-4d6a-49c3-b979-25ffaea0507d"
      },
      "execution_count": 28,
      "outputs": [
        {
          "output_type": "execute_result",
          "data": {
            "text/plain": [
              "'mohan@gmaill.com'"
            ],
            "application/vnd.google.colaboratory.intrinsic+json": {
              "type": "string"
            }
          },
          "metadata": {},
          "execution_count": 28
        }
      ]
    },
    {
      "cell_type": "code",
      "source": [
        "mohan.return_student_details()"
      ],
      "metadata": {
        "colab": {
          "base_uri": "https://localhost:8080/"
        },
        "id": "08GiOwSZkDAH",
        "outputId": "dd9d5111-1ea8-4ad9-acc3-a93d244d4fd0"
      },
      "execution_count": 29,
      "outputs": [
        {
          "output_type": "execute_result",
          "data": {
            "text/plain": [
              "(846413515, 'mohan@gmaill.com', 125)"
            ]
          },
          "metadata": {},
          "execution_count": 29
        }
      ]
    },
    {
      "cell_type": "code",
      "source": [
        "class pwskills3:\n",
        "  def __init__(xy,phone_no,email_id,student_id): #xy is pointer(reference)\n",
        "    xy.phone_no1=phone_no       #phone_no,email_id,studnet_id is variable of class\n",
        "    xy.email_id=email_id\n",
        "    xy.student_id=student_id\n",
        "\n",
        "  def return_student_details(xy):\n",
        "    return xy.phone_no1 , xy.email_id , xy.student_id"
      ],
      "metadata": {
        "id": "E4_KJgygkFJ4"
      },
      "execution_count": 30,
      "outputs": []
    },
    {
      "cell_type": "code",
      "source": [
        "sam=pwskills3(61515864,\"sam@gmail.com\",126)"
      ],
      "metadata": {
        "id": "iDdoXE5_lF0O"
      },
      "execution_count": 31,
      "outputs": []
    },
    {
      "cell_type": "code",
      "source": [
        "sam.phone_no1"
      ],
      "metadata": {
        "colab": {
          "base_uri": "https://localhost:8080/"
        },
        "id": "QONGhe2ylRvN",
        "outputId": "c179e876-f2c8-4488-f35f-b9b123b639b4"
      },
      "execution_count": 32,
      "outputs": [
        {
          "output_type": "execute_result",
          "data": {
            "text/plain": [
              "61515864"
            ]
          },
          "metadata": {},
          "execution_count": 32
        }
      ]
    },
    {
      "cell_type": "code",
      "source": [
        "sam.return_student_details()"
      ],
      "metadata": {
        "colab": {
          "base_uri": "https://localhost:8080/"
        },
        "id": "NjpgArSVlalY",
        "outputId": "0eae0277-ddf2-4ba9-dabe-7b14a0b6c25b"
      },
      "execution_count": 33,
      "outputs": [
        {
          "output_type": "execute_result",
          "data": {
            "text/plain": [
              "(61515864, 'sam@gmail.com', 126)"
            ]
          },
          "metadata": {},
          "execution_count": 33
        }
      ]
    },
    {
      "cell_type": "code",
      "source": [
        "sam.return_student_details()"
      ],
      "metadata": {
        "colab": {
          "base_uri": "https://localhost:8080/"
        },
        "id": "zLVmNf1jlTxC",
        "outputId": "7d88cf44-c30e-4d97-f04c-2540c1e8ccc5"
      },
      "execution_count": 34,
      "outputs": [
        {
          "output_type": "execute_result",
          "data": {
            "text/plain": [
              "(61515864, 'sam@gmail.com', 126)"
            ]
          },
          "metadata": {},
          "execution_count": 34
        }
      ]
    },
    {
      "cell_type": "markdown",
      "source": [
        "**POLYMORPHISM**"
      ],
      "metadata": {
        "id": "QE9AILC7m38i"
      }
    },
    {
      "cell_type": "code",
      "source": [
        "def test(a,b):\n",
        "  return a+b"
      ],
      "metadata": {
        "id": "f-rladg3lf7G"
      },
      "execution_count": 35,
      "outputs": []
    },
    {
      "cell_type": "code",
      "source": [
        "test(33,3444) #perform additon"
      ],
      "metadata": {
        "colab": {
          "base_uri": "https://localhost:8080/"
        },
        "id": "7-0GEqc5nBmU",
        "outputId": "9625cf5f-cf10-4aca-b5b6-6fdb20f6ec3d"
      },
      "execution_count": 36,
      "outputs": [
        {
          "output_type": "execute_result",
          "data": {
            "text/plain": [
              "3477"
            ]
          },
          "metadata": {},
          "execution_count": 36
        }
      ]
    },
    {
      "cell_type": "code",
      "source": [
        "test(\"emash\",\" anas\") #perform concatanatino\n",
        "#example of polymorphism"
      ],
      "metadata": {
        "colab": {
          "base_uri": "https://localhost:8080/",
          "height": 36
        },
        "id": "nxPZW_IhnDaC",
        "outputId": "f35e2352-2d4f-4954-a6b2-7fd16f150ecd"
      },
      "execution_count": 37,
      "outputs": [
        {
          "output_type": "execute_result",
          "data": {
            "text/plain": [
              "'emash anas'"
            ],
            "application/vnd.google.colaboratory.intrinsic+json": {
              "type": "string"
            }
          },
          "metadata": {},
          "execution_count": 37
        }
      ]
    },
    {
      "cell_type": "code",
      "source": [
        "test([2,3,4],[6,7,8])"
      ],
      "metadata": {
        "colab": {
          "base_uri": "https://localhost:8080/"
        },
        "id": "DR0RbMNtnK5k",
        "outputId": "07dde1a8-15bb-4e4c-a05f-eced9fd02642"
      },
      "execution_count": 38,
      "outputs": [
        {
          "output_type": "execute_result",
          "data": {
            "text/plain": [
              "[2, 3, 4, 6, 7, 8]"
            ]
          },
          "metadata": {},
          "execution_count": 38
        }
      ]
    },
    {
      "cell_type": "code",
      "source": [
        "class data_science:\n",
        "  def syllabus(self):\n",
        "    print(\"this is my method for data science\")"
      ],
      "metadata": {
        "id": "DPRvQ-VLna2d"
      },
      "execution_count": 39,
      "outputs": []
    },
    {
      "cell_type": "code",
      "source": [
        "class web_dev:\n",
        "  def syllabus(self):\n",
        "    print(\"this is my method for web dev\")"
      ],
      "metadata": {
        "id": "AdQ5HuTbnoiF"
      },
      "execution_count": 40,
      "outputs": []
    },
    {
      "cell_type": "code",
      "source": [
        "def class_parcer(class_obj):\n",
        "  for i in class_obj:\n",
        "    i.syllabus()"
      ],
      "metadata": {
        "id": "vDt0kxuEnzcl"
      },
      "execution_count": 41,
      "outputs": []
    },
    {
      "cell_type": "code",
      "source": [
        "obj_data_science=data_science()"
      ],
      "metadata": {
        "id": "ZvIGyPthn-pX"
      },
      "execution_count": 42,
      "outputs": []
    },
    {
      "cell_type": "code",
      "source": [
        "obj_web_dev=web_dev()"
      ],
      "metadata": {
        "id": "v1sKf0_HoObE"
      },
      "execution_count": 43,
      "outputs": []
    },
    {
      "cell_type": "code",
      "source": [
        "class_ojb = [obj_data_science,obj_web_dev]"
      ],
      "metadata": {
        "id": "Ey8aV2KAoUnf"
      },
      "execution_count": 44,
      "outputs": []
    },
    {
      "cell_type": "code",
      "source": [
        "class_parcer(class_ojb)"
      ],
      "metadata": {
        "colab": {
          "base_uri": "https://localhost:8080/"
        },
        "id": "Jjayf_xsoc0Z",
        "outputId": "4a50ef79-2a1a-4fec-ec30-9a5f3b5f9caa"
      },
      "execution_count": 45,
      "outputs": [
        {
          "output_type": "stream",
          "name": "stdout",
          "text": [
            "this is my method for data science\n",
            "this is my method for web dev\n"
          ]
        }
      ]
    },
    {
      "cell_type": "markdown",
      "source": [
        "**ENCAPSULATION**"
      ],
      "metadata": {
        "id": "G5pJwrXspVxP"
      }
    },
    {
      "cell_type": "code",
      "source": [
        "class test:\n",
        "  def __init__(self,a,b):\n",
        "    self.a=a\n",
        "    self.b=b"
      ],
      "metadata": {
        "id": "SitxdO8zojFf"
      },
      "execution_count": 46,
      "outputs": []
    },
    {
      "cell_type": "code",
      "source": [
        "t=test(45,56)"
      ],
      "metadata": {
        "id": "JI_XUijtpnZQ"
      },
      "execution_count": 47,
      "outputs": []
    },
    {
      "cell_type": "code",
      "source": [
        "t.a"
      ],
      "metadata": {
        "colab": {
          "base_uri": "https://localhost:8080/"
        },
        "id": "1s4yAWhypp7y",
        "outputId": "a3905914-7d41-47fe-ba65-24fb7489d947"
      },
      "execution_count": 48,
      "outputs": [
        {
          "output_type": "execute_result",
          "data": {
            "text/plain": [
              "45"
            ]
          },
          "metadata": {},
          "execution_count": 48
        }
      ]
    },
    {
      "cell_type": "code",
      "source": [
        "t.b"
      ],
      "metadata": {
        "colab": {
          "base_uri": "https://localhost:8080/"
        },
        "id": "AzxGcXn7prup",
        "outputId": "00831242-dd7e-4721-e9d2-de02eb61c568"
      },
      "execution_count": 49,
      "outputs": [
        {
          "output_type": "execute_result",
          "data": {
            "text/plain": [
              "56"
            ]
          },
          "metadata": {},
          "execution_count": 49
        }
      ]
    },
    {
      "cell_type": "code",
      "source": [
        "t.a=4566"
      ],
      "metadata": {
        "id": "2kMsS2aJpsz2"
      },
      "execution_count": 50,
      "outputs": []
    },
    {
      "cell_type": "code",
      "source": [
        "t.a"
      ],
      "metadata": {
        "colab": {
          "base_uri": "https://localhost:8080/"
        },
        "id": "i6FLNGuKpxdb",
        "outputId": "f3176539-cbcc-4f31-dccf-d40bdf05fb5b"
      },
      "execution_count": 51,
      "outputs": [
        {
          "output_type": "execute_result",
          "data": {
            "text/plain": [
              "4566"
            ]
          },
          "metadata": {},
          "execution_count": 51
        }
      ]
    },
    {
      "cell_type": "code",
      "source": [
        "class car:\n",
        "  def __init__(self,year,make,model,speed):\n",
        "    self.__year=year #trying to hide my variable from user only created user lnow the variable\n",
        "    self.__make=make\n",
        "    self.__model=model\n",
        "    self.__speed=0\n",
        "  def set_speed(self,speed):\n",
        "    self.__speed=0 if speed < 0 else speed\n",
        "  def get_speed(self):\n",
        "    return self.__speed"
      ],
      "metadata": {
        "id": "OkXaqs2-pyMQ"
      },
      "execution_count": 52,
      "outputs": []
    },
    {
      "cell_type": "code",
      "source": [
        "obj_car=car(2021,\"toyota\",\"lenova\",12)"
      ],
      "metadata": {
        "id": "5Pi4TKVGq2wK"
      },
      "execution_count": 53,
      "outputs": []
    },
    {
      "cell_type": "code",
      "source": [
        "obj_car._car__year"
      ],
      "metadata": {
        "colab": {
          "base_uri": "https://localhost:8080/"
        },
        "id": "JmdLkOn2rBcT",
        "outputId": "11e54886-0ed6-4fed-f857-c987438d3e48"
      },
      "execution_count": 54,
      "outputs": [
        {
          "output_type": "execute_result",
          "data": {
            "text/plain": [
              "2021"
            ]
          },
          "metadata": {},
          "execution_count": 54
        }
      ]
    },
    {
      "cell_type": "code",
      "source": [
        "obj_car._car__year=2024"
      ],
      "metadata": {
        "id": "RfDcgBr7rRpK"
      },
      "execution_count": 55,
      "outputs": []
    },
    {
      "cell_type": "code",
      "source": [
        "obj_car._car__year"
      ],
      "metadata": {
        "colab": {
          "base_uri": "https://localhost:8080/"
        },
        "id": "8P-mprn4r4-P",
        "outputId": "827af4df-80c8-4aaa-aa29-94b0a2beec44"
      },
      "execution_count": 56,
      "outputs": [
        {
          "output_type": "execute_result",
          "data": {
            "text/plain": [
              "2024"
            ]
          },
          "metadata": {},
          "execution_count": 56
        }
      ]
    },
    {
      "cell_type": "code",
      "source": [],
      "metadata": {
        "id": "hrECtqskr7xa"
      },
      "execution_count": 56,
      "outputs": []
    },
    {
      "cell_type": "code",
      "source": [
        "class bank_account:\n",
        "  def __init__(self,balance):\n",
        "    self.__balance=balance\n",
        "  def deposit(self,amount):\n",
        "    self.__balance=self.__balance + amount\n",
        "\n",
        "  def withdraw(self,amount):\n",
        "    if self.__balance >= amount:\n",
        "      self.__balance=self.__balance - amount\n",
        "      return True\n",
        "    else:\n",
        "      return False\n",
        "  def get_balance(self):\n",
        "    return self.__balance\n"
      ],
      "metadata": {
        "id": "vwexM0SRs3oI"
      },
      "execution_count": 57,
      "outputs": []
    },
    {
      "cell_type": "code",
      "source": [
        "obj_bank_account=bank_account(1000)"
      ],
      "metadata": {
        "id": "L0KrtbS_tO2i"
      },
      "execution_count": 58,
      "outputs": []
    },
    {
      "cell_type": "code",
      "source": [
        "obj_bank_account.get_balance()"
      ],
      "metadata": {
        "colab": {
          "base_uri": "https://localhost:8080/"
        },
        "id": "3HGskU_VuHv5",
        "outputId": "bdd83408-c397-4053-8bd6-f2af5be71b1f"
      },
      "execution_count": 59,
      "outputs": [
        {
          "output_type": "execute_result",
          "data": {
            "text/plain": [
              "1000"
            ]
          },
          "metadata": {},
          "execution_count": 59
        }
      ]
    },
    {
      "cell_type": "code",
      "source": [
        "obj_bank_account.deposit(5000)"
      ],
      "metadata": {
        "id": "qy8qKa8xuZqg"
      },
      "execution_count": 60,
      "outputs": []
    },
    {
      "cell_type": "code",
      "source": [
        "obj_bank_account.get_balance()"
      ],
      "metadata": {
        "colab": {
          "base_uri": "https://localhost:8080/"
        },
        "id": "OYRwoGWHue7C",
        "outputId": "2995c481-bf1e-4351-b4ec-ac5981a46771"
      },
      "execution_count": 61,
      "outputs": [
        {
          "output_type": "execute_result",
          "data": {
            "text/plain": [
              "6000"
            ]
          },
          "metadata": {},
          "execution_count": 61
        }
      ]
    },
    {
      "cell_type": "code",
      "source": [
        "obj_bank_account.withdraw(80000)"
      ],
      "metadata": {
        "colab": {
          "base_uri": "https://localhost:8080/"
        },
        "id": "tPOPFV2YujeK",
        "outputId": "62e9c646-75d1-4a2b-f1c9-af1042ca7ffb"
      },
      "execution_count": 62,
      "outputs": [
        {
          "output_type": "execute_result",
          "data": {
            "text/plain": [
              "False"
            ]
          },
          "metadata": {},
          "execution_count": 62
        }
      ]
    },
    {
      "cell_type": "code",
      "source": [
        "obj_bank_account.withdraw(2000)"
      ],
      "metadata": {
        "colab": {
          "base_uri": "https://localhost:8080/"
        },
        "id": "wtNNTKMMvFVi",
        "outputId": "37096d4a-6da3-45df-a5be-e0aa47c22502"
      },
      "execution_count": 63,
      "outputs": [
        {
          "output_type": "execute_result",
          "data": {
            "text/plain": [
              "True"
            ]
          },
          "metadata": {},
          "execution_count": 63
        }
      ]
    },
    {
      "cell_type": "code",
      "source": [
        "obj_bank_account.get_balance()"
      ],
      "metadata": {
        "colab": {
          "base_uri": "https://localhost:8080/"
        },
        "id": "6ibA_KQWvK7i",
        "outputId": "b189b6b7-abea-4d67-d4ce-1dbb632ad27e"
      },
      "execution_count": 64,
      "outputs": [
        {
          "output_type": "execute_result",
          "data": {
            "text/plain": [
              "4000"
            ]
          },
          "metadata": {},
          "execution_count": 64
        }
      ]
    },
    {
      "cell_type": "code",
      "source": [],
      "metadata": {
        "id": "8Ojxxo8ZvOZx"
      },
      "execution_count": 64,
      "outputs": []
    }
  ]
}